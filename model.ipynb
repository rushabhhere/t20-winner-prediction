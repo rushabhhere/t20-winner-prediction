{
 "cells": [
  {
   "cell_type": "code",
   "execution_count": 1,
   "metadata": {},
   "outputs": [],
   "source": [
    "import pandas as pd"
   ]
  },
  {
   "cell_type": "code",
   "execution_count": null,
   "metadata": {},
   "outputs": [],
   "source": [
    "df = pd.read_csv('./data/second_innings.csv')\n",
    "df"
   ]
  },
  {
   "cell_type": "code",
   "execution_count": null,
   "metadata": {},
   "outputs": [],
   "source": [
    "df.drop(columns=['venue', 'innings', 'ball', 'batting_team', 'bowling_team', 'runs_off_bat', 'extras', 'wides', 'noballs', 'byes', 'legbyes', 'wicket_type'], inplace=True)\n",
    "df.head()"
   ]
  },
  {
   "cell_type": "code",
   "execution_count": null,
   "metadata": {},
   "outputs": [],
   "source": [
    "df.isna().sum()"
   ]
  },
  {
   "cell_type": "code",
   "execution_count": null,
   "metadata": {},
   "outputs": [],
   "source": [
    "df.dropna(inplace=True)"
   ]
  },
  {
   "cell_type": "code",
   "execution_count": null,
   "metadata": {},
   "outputs": [],
   "source": [
    "df.isna().sum()"
   ]
  },
  {
   "cell_type": "code",
   "execution_count": null,
   "metadata": {},
   "outputs": [],
   "source": [
    "df.shape"
   ]
  },
  {
   "cell_type": "code",
   "execution_count": null,
   "metadata": {},
   "outputs": [],
   "source": [
    "df['runs_required'] = df['runs_required'].astype('int')\n",
    "df['wickets_remaining'] = df['wickets_remaining'].astype('int')\n",
    "df['balls_remaining'] = df['balls_remaining'].astype('int')\n",
    "df['winner'] = df['winner'].astype('int')"
   ]
  },
  {
   "cell_type": "code",
   "execution_count": null,
   "metadata": {},
   "outputs": [],
   "source": [
    "df.head()"
   ]
  },
  {
   "cell_type": "code",
   "execution_count": null,
   "metadata": {},
   "outputs": [],
   "source": [
    "import matplotlib.pyplot as plt\n",
    "import seaborn as sns\n",
    "\n",
    "plt.style.use('fast')"
   ]
  },
  {
   "cell_type": "code",
   "execution_count": null,
   "metadata": {},
   "outputs": [],
   "source": [
    "# scatter plot for runs required with minimum runs 100 vs balls remaining\n",
    "plt.figure(figsize=(10, 6))\n",
    "sns.scatterplot(x='balls_remaining', y='runs_required', data=df[(df['runs_required'] > 100)], alpha=0.6)\n",
    "plt.title('Runs Required vs Balls Remaining')\n",
    "plt.xlabel('Balls Remaining')\n",
    "plt.ylabel('Runs Required')\n",
    "plt.show()"
   ]
  },
  {
   "cell_type": "code",
   "execution_count": null,
   "metadata": {},
   "outputs": [],
   "source": [
    "# boxplot for runs remaining with more than 119 balls remaining\n",
    "plt.figure(figsize=(10, 6))\n",
    "sns.boxplot(y='runs_required', data=df[(df['balls_remaining'] >= 119)])\n",
    "plt.title('Runs Required with more than 119 balls remaining')\n",
    "plt.show()"
   ]
  },
  {
   "cell_type": "code",
   "execution_count": null,
   "metadata": {},
   "outputs": [],
   "source": [
    "# get q1, q2, q3 for runs remaining with more than 119 balls remaining\n",
    "q1 = df[(df['balls_remaining'] >= 119)]['runs_required'].quantile(0.25)\n",
    "q2 = df[(df['balls_remaining'] >= 119)]['runs_required'].quantile(0.5)\n",
    "q3 = df[(df['balls_remaining'] >= 119)]['runs_required'].quantile(0.75)\n",
    "\n",
    "print(f'Q1: {q1}, Q2: {q2}, Q3: {q3}')\n",
    "\n",
    "iqr = q3 - q1\n",
    "\n",
    "# get lower and upper bounds\n",
    "lower_bound = q1 - (1.5 * iqr)\n",
    "upper_bound = q3 + (1.5 * iqr)\n",
    "\n",
    "print(f'Lower Bound: {lower_bound}, Upper Bound: {upper_bound}')"
   ]
  },
  {
   "cell_type": "code",
   "execution_count": null,
   "metadata": {},
   "outputs": [],
   "source": [
    "# find match_id for outliers accordingly\n",
    "outliers = df[(df['balls_remaining'] >= 119)][(df['runs_required'] < lower_bound) | (df['runs_required'] > upper_bound)]\n",
    "\n",
    "outlier_matches = outliers['match_id'].unique()\n",
    "\n",
    "outlier_matches"
   ]
  },
  {
   "cell_type": "code",
   "execution_count": null,
   "metadata": {},
   "outputs": [],
   "source": [
    "df[df['match_id'].isin(outlier_matches)]"
   ]
  },
  {
   "cell_type": "code",
   "execution_count": null,
   "metadata": {},
   "outputs": [],
   "source": [
    "# drop where match id is in outlier_matches\n",
    "df = df[~df['match_id'].isin(outlier_matches)]\n",
    "df"
   ]
  },
  {
   "cell_type": "code",
   "execution_count": null,
   "metadata": {},
   "outputs": [],
   "source": [
    "# preprocessing for model\n",
    "from sklearn.model_selection import train_test_split\n",
    "from sklearn.preprocessing import MinMaxScaler\n",
    "\n",
    "X = df[['runs_required', 'wickets_remaining', 'crr', 'rrr', 'balls_remaining']]\n",
    "# X = df[['runs_required', 'wickets_remaining', 'balls_remaining']]\n",
    "y = df['winner']\n",
    "\n",
    "X_train, X_test, y_train, y_test = train_test_split(X, y, test_size=0.2, random_state=37)\n",
    "\n",
    "scaler = MinMaxScaler()\n",
    "X_train = scaler.fit_transform(X_train)\n",
    "X_test = scaler.transform(X_test)"
   ]
  },
  {
   "cell_type": "code",
   "execution_count": null,
   "metadata": {},
   "outputs": [],
   "source": [
    "# logistic regression model\n",
    "from sklearn.linear_model import LogisticRegression\n",
    "# from sklearn.pipeline import Pipeline\n",
    "\n",
    "# pipe = Pipeline(steps=[('scaler', trf), ('model', LogisticRegression())])\n",
    "\n",
    "model = LogisticRegression()\n",
    "model.fit(X_train, y_train)\n",
    "\n",
    "y_pred = model.predict(X_test)"
   ]
  },
  {
   "cell_type": "code",
   "execution_count": null,
   "metadata": {},
   "outputs": [],
   "source": [
    "accuracy = model.score(X_test, y_test)\n",
    "accuracy"
   ]
  },
  {
   "cell_type": "code",
   "execution_count": null,
   "metadata": {},
   "outputs": [],
   "source": [
    "print(X_test[10])\n",
    "model.predict_proba(X_test)[10]"
   ]
  },
  {
   "cell_type": "code",
   "execution_count": null,
   "metadata": {},
   "outputs": [],
   "source": [
    "# test for custom input\n",
    "# custom_data = [70, 8, 6, 8.4, 50]\n",
    "custom_data = [2, 1, 10, 2.4, 5]\n",
    "\n",
    "# scale custom data\n",
    "custom_data = scaler.transform([custom_data])\n",
    "\n",
    "print(model.predict(custom_data))\n",
    "print(model.predict_proba(custom_data))"
   ]
  },
  {
   "cell_type": "code",
   "execution_count": 171,
   "metadata": {},
   "outputs": [
    {
     "data": {
      "text/plain": [
       "array([[ 0.00970166, -0.95520569,  1.1486712 , -0.12962796,  1.05510354]])"
      ]
     },
     "execution_count": 171,
     "metadata": {},
     "output_type": "execute_result"
    }
   ],
   "source": [
    "test_data = [[100, 5, 10, 10, 100]]\n",
    "test_data = scaler.transform(test_data)\n",
    "\n",
    "test_data"
   ]
  },
  {
   "cell_type": "code",
   "execution_count": 172,
   "metadata": {},
   "outputs": [
    {
     "data": {
      "text/plain": [
       "array([[ 0.00970166, -0.95520569,  1.1486712 , -0.12962796,  1.05510354]])"
      ]
     },
     "execution_count": 172,
     "metadata": {},
     "output_type": "execute_result"
    }
   ],
   "source": [
    "# load the scaler\n",
    "scaler = joblib.load('./models/scaler.pkl')\n",
    "\n",
    "# test on custom data\n",
    "test_data = [[100, 5, 10, 10, 100]]\n",
    "test_data = scaler.transform(test_data)\n",
    "\n",
    "test_data"
   ]
  },
  {
   "cell_type": "markdown",
   "metadata": {},
   "source": [
    "### Test model over ranges of overs"
   ]
  },
  {
   "cell_type": "code",
   "execution_count": 188,
   "metadata": {},
   "outputs": [],
   "source": [
    "# make a function for above 5 cells\n",
    "def get_accuracy(model, data):\n",
    "    X = data[['runs_required', 'wickets_remaining', 'crr', 'rrr', 'balls_remaining']]\n",
    "    y = data['winner']\n",
    "\n",
    "    X = scaler.transform(X)\n",
    "\n",
    "    accuracy = model.score(X, y)\n",
    "    return accuracy\n",
    "\n",
    "def test_over_overs(model):\n",
    "    first_5_overs = df[(df['balls_remaining'] >= 90)].copy()\n",
    "    overs_5_10 = df[(df['balls_remaining'] >= 60) & (df['balls_remaining'] < 90)].copy()\n",
    "    overs_10_15 = df[(df['balls_remaining'] >= 30) & (df['balls_remaining'] < 60)].copy()\n",
    "    overs_15_20 = df[(df['balls_remaining'] < 30)].copy()\n",
    "\n",
    "    first_5_overs_accuracy = get_accuracy(model, first_5_overs)\n",
    "    overs_5_10_accuracy = get_accuracy(model, overs_5_10)\n",
    "    overs_10_15_accuracy = get_accuracy(model, overs_10_15)\n",
    "    overs_15_20_accuracy = get_accuracy(model, overs_15_20)\n",
    "\n",
    "    return first_5_overs_accuracy, overs_5_10_accuracy, overs_10_15_accuracy, overs_15_20_accuracy"
   ]
  },
  {
   "cell_type": "code",
   "execution_count": 192,
   "metadata": {},
   "outputs": [
    {
     "name": "stdout",
     "output_type": "stream",
     "text": [
      "First 5 Overs Accuracy: 0.757309897060836\n",
      "5-10 Overs Accuracy: 0.8127932040065932\n",
      "10-15 Overs Accuracy: 0.8536585365853658\n",
      "15-20 Overs Accuracy: 0.8663911504862778\n"
     ]
    }
   ],
   "source": [
    "acc_0_5, acc_5_10, acc_10_15, acc_15_20 = test_over_overs(lr_model)\n",
    "\n",
    "print(f'First 5 Overs Accuracy: {acc_0_5}')\n",
    "print(f'5-10 Overs Accuracy: {acc_5_10}')\n",
    "print(f'10-15 Overs Accuracy: {acc_10_15}')\n",
    "print(f'15-20 Overs Accuracy: {acc_15_20}')"
   ]
  },
  {
   "cell_type": "code",
   "execution_count": 196,
   "metadata": {},
   "outputs": [
    {
     "data": {
      "image/png": "[encoded data removed]",
      "text/plain": [
       "<Figure size 640x480 with 1 Axes>"
      ]
     },
     "metadata": {},
     "output_type": "display_data"
    }
   ],
   "source": [
    "x = ['0-5', '5-10', '10-15', '15-20']\n",
    "y = [acc_0_5 * 100, acc_5_10 * 100, acc_10_15 * 100, acc_15_20 * 100]\n",
    "\n",
    "plt.plot(x, y, marker='o')\n",
    "plt.ylim(50, 100)\n",
    "plt.title('Accuracy over the overs')\n",
    "plt.xlabel('Overs')\n",
    "plt.ylabel('Accuracy')\n",
    "plt.show()"
   ]
  },
  {
   "cell_type": "code",
   "execution_count": null,
   "metadata": {},
   "outputs": [],
   "source": [
    "rf_classifier = RandomForestClassifier()\n",
    "rf_classifier.fit(X_train, y_train)"
   ]
  },
  {
   "cell_type": "code",
   "execution_count": null,
   "metadata": {},
   "outputs": [],
   "source": [
    "rf_classifier.score(X_test, y_test)"
   ]
  },
  {
   "cell_type": "markdown",
   "metadata": {},
   "source": [
    "## Feedforward Neural Network with 1 hidden layer"
   ]
  },
  {
   "cell_type": "code",
   "execution_count": null,
   "metadata": {},
   "outputs": [],
   "source": [
    "from tensorflow.keras.models import Sequential\n",
    "from tensorflow.keras.layers import Dense\n",
    "from tensorflow.keras.regularizers import l2"
   ]
  },
  {
   "cell_type": "code",
   "execution_count": null,
   "metadata": {},
   "outputs": [],
   "source": [
    "# predict\n",
    "y_pred = fnn_1l_model.predict(X_test)\n",
    "\n",
    "loss, accuracy = fnn_1l_model.evaluate(X_test, y_test)\n",
    "print(f'Loss: {loss}, Accuracy: {accuracy}')"
   ]
  },
  {
   "cell_type": "code",
   "execution_count": null,
   "metadata": {},
   "outputs": [],
   "source": [
    "# test for custom input\n",
    "# custom_data = [10, 5, 60, 1]\n",
    "custom_data = [70, 8, 6, 8.4, 50]\n",
    "\n",
    "# scale custom data\n",
    "custom_data = scaler.transform([custom_data])\n",
    "\n",
    "batting_team_probability = fnn_1l_model.predict(custom_data)[0][0]\n",
    "bowling_team_probability = 1 - batting_team_probability\n",
    "\n",
    "print(f'Batting Team Probability: {batting_team_probability}')\n",
    "print(f'Bowling Team Probability: {bowling_team_probability}')"
   ]
  },
  {
   "cell_type": "code",
   "execution_count": null,
   "metadata": {},
   "outputs": [],
   "source": [
    "fnn_2l_model = Sequential()\n",
    "\n",
    "fnn_2l_model.add(Dense(4, activation='tanh'))\n",
    "fnn_2l_model.add(Dense(64, activation='tanh'))\n",
    "fnn_2l_model.add(Dense(32, activation='tanh'))\n",
    "fnn_2l_model.add(Dense(1, activation='sigmoid'))\n",
    "\n",
    "fnn_2l_model.compile(optimizer='rmsprop', loss='binary_crossentropy', metrics=['accuracy'])\n",
    "\n",
    "fnn_2l_model.fit(X_train, y_train, epochs=10, verbose=1)"
   ]
  },
  {
   "cell_type": "code",
   "execution_count": null,
   "metadata": {},
   "outputs": [],
   "source": [
    "# predict\n",
    "y_pred = fnn_2l_model.predict(X_test)\n",
    "\n",
    "loss, accuracy = fnn_2l_model.evaluate(X_test, y_test)\n",
    "print(f'Loss: {loss}, Accuracy: {accuracy}')"
   ]
  }
 ],
 "metadata": {
  "kernelspec": {
   "display_name": ".venv",
   "language": "python",
   "name": "python3"
  },
  "language_info": {
   "codemirror_mode": {
    "name": "ipython",
    "version": 3
   },
   "file_extension": ".py",
   "mimetype": "text/x-python",
   "name": "python",
   "nbconvert_exporter": "python",
   "pygments_lexer": "ipython3",
   "version": "3.10.11"
  }
 },
 "nbformat": 4,
 "nbformat_minor": 2
}
